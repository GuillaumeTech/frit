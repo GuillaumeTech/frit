{
 "cells": [
  {
   "cell_type": "markdown",
   "metadata": {},
   "source": [
    "#### lib imports"
   ]
  },
  {
   "cell_type": "code",
   "execution_count": 1,
   "metadata": {},
   "outputs": [],
   "source": [
    "import pandas as pd\n",
    "import random\n",
    "from IPython.display import display, HTML"
   ]
  },
  {
   "cell_type": "markdown",
   "metadata": {},
   "source": [
    "#### files imports\n",
    "Those are big files so we load them in a spearated cell "
   ]
  },
  {
   "cell_type": "code",
   "execution_count": 8,
   "metadata": {},
   "outputs": [],
   "source": [
    "ricardo = pd.read_json('./data/ricardo.json', encoding=\"utf8\")\n",
    "marmitton = pd.read_json('./data/marmiton.json', encoding=\"utf8\")\n",
    "septcinq = pd.read_json('./data/750g.json', encoding=\"utf8\")\n",
    "cuisine_az = pd.read_json('./data/cuisine_az.json', encoding=\"utf8\")\n",
    "marieclaire = pd.read_json('./data/marieclaire.json', encoding=\"utf8\")"
   ]
  },
  {
   "cell_type": "markdown",
   "metadata": {},
   "source": [
    "keep only the first 1000 elements so it easier to work with and every site bring the same proportion of data"
   ]
  },
  {
   "cell_type": "code",
   "execution_count": 10,
   "metadata": {},
   "outputs": [],
   "source": [
    "ricardo_limited = ricardo.head(2000)\n",
    "marmitton_limited = marmitton.head(2000)\n",
    "septcinq_limited = ricardo.head(2000)\n",
    "cuisine_az_limited = marmitton.head(2000)\n",
    "marieclaire_limited = ricardo.head(2000)"
   ]
  },
  {
   "cell_type": "code",
   "execution_count": 14,
   "metadata": {},
   "outputs": [],
   "source": [
    "ing = [*ricardo_limited.ingredients.sum(), *marmitton_limited.ingredients.sum(),  *septcinq_limited.ingredients.sum(),  *cuisine_az_limited.ingredients.sum(),  *marieclaire_limited.ingredients.sum()]\n",
    "\n",
    "ing_splited = [i.split() for i in ing]\n",
    "random.shuffle(ing_splited)\n",
    "[i.append(\" \") for i in ing_splited]\n",
    "ing_splited\n",
    "flat_list = [item for sublist in ing_splited for item in sublist]\n",
    "pd.DataFrame(flat_list).to_csv('./to_label.csv', index=False)"
   ]
  },
  {
   "cell_type": "code",
   "execution_count": null,
   "metadata": {},
   "outputs": [],
   "source": []
  }
 ],
 "metadata": {
  "kernelspec": {
   "display_name": "Python 3",
   "language": "python",
   "name": "python3"
  },
  "language_info": {
   "codemirror_mode": {
    "name": "ipython",
    "version": 3
   },
   "file_extension": ".py",
   "mimetype": "text/x-python",
   "name": "python",
   "nbconvert_exporter": "python",
   "pygments_lexer": "ipython3",
   "version": "3.7.3-final"
  }
 },
 "nbformat": 4,
 "nbformat_minor": 4
}