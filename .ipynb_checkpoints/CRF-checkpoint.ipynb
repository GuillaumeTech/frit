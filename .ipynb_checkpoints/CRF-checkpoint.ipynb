{
 "cells": [
  {
   "cell_type": "code",
   "execution_count": 9,
   "metadata": {},
   "outputs": [
    {
     "ename": "SyntaxError",
     "evalue": "invalid syntax (<ipython-input-9-011907535e65>, line 2)",
     "output_type": "error",
     "traceback": [
      "\u001b[0;36m  File \u001b[0;32m\"<ipython-input-9-011907535e65>\"\u001b[0;36m, line \u001b[0;32m2\u001b[0m\n\u001b[0;31m    Java needs to be installed\u001b[0m\n\u001b[0m             ^\u001b[0m\n\u001b[0;31mSyntaxError\u001b[0m\u001b[0;31m:\u001b[0m invalid syntax\n"
     ]
    }
   ],
   "source": [
    "### Requirements\n",
    "Java needs to be installed\n",
    "download standford POS tagger/model"
   ]
  },
  {
   "cell_type": "code",
   "execution_count": 10,
   "metadata": {},
   "outputs": [
    {
     "name": "stdout",
     "output_type": "stream",
     "text": [
      "[('1', 'DET'), ('boîte', 'NC'), ('de', 'P'), ('284', 'DET'), ('ml', 'NC'), ('(10', 'ADJ'), ('oz)', 'N'), ('de', 'P'), ('bouillon', 'N'), ('de', 'P'), ('poulet', 'NC'), ('concentré', 'ADJ')]\n"
     ]
    }
   ],
   "source": [
    "from nltk.tag import StanfordPOSTagger\n",
    "import pandas as pd\n",
    "\n",
    "jar = './stanford-postagger-3.9.2.jar'\n",
    "model = './french.tagger'\n",
    "\n",
    "pos_tagger = StanfordPOSTagger(model, jar, encoding='utf8' )\n",
    "res = pos_tagger.tag('1 boîte de 284 ml (10 oz) de bouillon de poulet concentré'.split())\n",
    "print (res)"
   ]
  },
  {
   "cell_type": "code",
   "execution_count": 37,
   "metadata": {},
   "outputs": [
    {
     "name": "stdout",
     "output_type": "stream",
     "text": [
      "0     [1 l de rhum, 1 l de jus de banane, 1 l de goy...\n",
      "1     [1 pâte brisée, 1 boîte de thon, 200 g de hari...\n",
      "2     [2 oignons, 6 tomates vertes, 1 cuillère à caf...\n",
      "3     [3 oeufs, 105 g de beurre, 255 g de farine, 25...\n",
      "4     [1 potimarron, 1 gousse d'ail, 12 coquilles sa...\n",
      "5     [4 poivrons jaunes, 1 oignon, 1 gousse d'ail, ...\n",
      "6     [250 g de saumon frais, 1 échalote, 1 gousse d...\n",
      "7     [250 g de carotte, 2 cuillères à café de sucre...\n",
      "8     [2 tranches de saumon fumé, 1 fromage de chèvr...\n",
      "9     [1 l d'eau, none pieds, 1 cube de bouillon, 60...\n",
      "10    [20 cl de crème fraîche, 1 échalote, 1 citron,...\n",
      "11    [1 potimarron, 1 pomme de terre, 1 gousse d'ai...\n",
      "12    [1.4 kg de seiche, 4 tomates, 2 oignons, 2 gou...\n",
      "13    [8 noix de saint-jacques, 1 bâton de vanille, ...\n",
      "14    [100 g de farine, 100 g de polenta, 2 cuillère...\n",
      "15    [130 g de saumon fumé, 40 cl de crème liquide,...\n",
      "16    [440 g de riz, 250 g d'ananas, 125 g de noix d...\n",
      "17    [250 g de farine, 125 g de beurre, 5 cl d'eau,...\n",
      "18    [28 crevettes, 2 citrons, 3 oranges, 3 cuillèr...\n",
      "19    [200 g de beurre, 200 g de sucre, 4 oeufs, 1 y...\n",
      "20    [1 pâte sablée, 2 cuillères à soupe de sucre s...\n",
      "21    [500 g de kiwi, 300 g de fraises, 50 g de sucr...\n",
      "22    [1 yaourt nature, 200 g de sucre en poudre, 30...\n",
      "23    [60 g de pistaches, 2 oeufs, 60 g de sucre, 40...\n",
      "24    [1 kg de pruneau, 25 cl de rhum, 1 l de vin ro...\n",
      "25    [200 g de beurre, 300 g de sucre en poudre, 45...\n",
      "26    [25 g de semoule fine, 25 cl de lait, 1 cuillè...\n",
      "27    [2 rouleaux de pâte feuilletée, 3 coings, 60 g...\n",
      "28    [280 g de farine de blé, 100 g de sucre en pou...\n",
      "29    [120 g de céréale, 80 g de farine, 1/2 sachet ...\n",
      "Name: ingredients, dtype: object\n"
     ]
    }
   ],
   "source": [
    "df = pd.read_json('./sample.json', encoding=\"utf8\")\n",
    "print(df.ingredients)"
   ]
  },
  {
   "cell_type": "code",
   "execution_count": null,
   "metadata": {},
   "outputs": [],
   "source": []
  },
  {
   "cell_type": "code",
   "execution_count": null,
   "metadata": {},
   "outputs": [],
   "source": []
  },
  {
   "cell_type": "code",
   "execution_count": null,
   "metadata": {},
   "outputs": [],
   "source": []
  }
 ],
 "metadata": {
  "kernelspec": {
   "display_name": "Python 3",
   "language": "python",
   "name": "python3"
  },
  "language_info": {
   "codemirror_mode": {
    "name": "ipython",
    "version": 3
   },
   "file_extension": ".py",
   "mimetype": "text/x-python",
   "name": "python",
   "nbconvert_exporter": "python",
   "pygments_lexer": "ipython3",
   "version": "3.7.3"
  }
 },
 "nbformat": 4,
 "nbformat_minor": 4
}
