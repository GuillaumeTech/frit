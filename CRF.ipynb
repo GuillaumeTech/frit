{
 "cells": [
  {
   "cell_type": "code",
   "execution_count": 9,
   "metadata": {},
   "outputs": [
    {
     "ename": "SyntaxError",
     "evalue": "invalid syntax (<ipython-input-9-011907535e65>, line 2)",
     "output_type": "error",
     "traceback": [
      "\u001b[0;36m  File \u001b[0;32m\"<ipython-input-9-011907535e65>\"\u001b[0;36m, line \u001b[0;32m2\u001b[0m\n\u001b[0;31m    Java needs to be installed\u001b[0m\n\u001b[0m             ^\u001b[0m\n\u001b[0;31mSyntaxError\u001b[0m\u001b[0;31m:\u001b[0m invalid syntax\n"
     ]
    }
   ],
   "source": [
    "### Requirements\n",
    "Java needs to be installed\n",
    "download standford POS tagger/model"
   ]
  },
  {
   "cell_type": "code",
   "execution_count": 10,
   "metadata": {},
   "outputs": [
    {
     "name": "stdout",
     "output_type": "stream",
     "text": [
      "[('1', 'DET'), ('boîte', 'NC'), ('de', 'P'), ('284', 'DET'), ('ml', 'NC'), ('(10', 'ADJ'), ('oz)', 'N'), ('de', 'P'), ('bouillon', 'N'), ('de', 'P'), ('poulet', 'NC'), ('concentré', 'ADJ')]\n"
     ]
    }
   ],
   "source": [
    "from nltk.tag import StanfordPOSTagger\n",
    "import pandas as pd\n",
    "\n",
    "jar = './stanford-postagger-3.9.2.jar'\n",
    "model = './french.tagger'\n",
    "\n",
    "pos_tagger = StanfordPOSTagger(model, jar, encoding='utf8' )\n",
    "res = pos_tagger.tag('1 boîte de 284 ml (10 oz) de bouillon de poulet concentré'.split())\n",
    "print (res)"
   ]
  },
  {
   "cell_type": "code",
   "execution_count": 38,
   "metadata": {},
   "outputs": [
    {
     "name": "stdout",
     "output_type": "stream",
     "text": [
      "['1 l de rhum', '1 l de jus de banane', '1 l de goyave', \"1 l de jus d'ananas\", \"1 l de jus d'orange\", '1 jus de citron', '1 gousse de vanille', '2 verres de sucre', '4 cuillères à soupe de vanille', 'none poivre', '1 pâte brisée', '1 boîte de thon', '200 g de haricot vert', '2 échalotes', '2 oeufs', '1 cuillère à soupe de moutarde', \"2 cuillères à soupe d'huile d'olive\", '2 cuillères à soupe de tomate concassée', 'none poivre', 'none sel', 'none herbes de provence', '2 oignons', '6 tomates vertes', '1 cuillère à café de coriandre', '2 cuillères à café de paprika', '1 trait de vinaigre balsamique', 'none persil', '50 g de parmesan', '1 rouleau de pâte feuilletée', '3 oeufs', '105 g de beurre', '255 g de farine', '255 g de sucre', '1 sachet de levure chimique', '3 cuillères à soupe de rhum', '1 potimarron', \"1 gousse d'ail\", '12 coquilles saint-jacques', '12 noisettes', '50 g de parmesan râpé', '10 cl de crème', '20 g de beurre', 'none cerfeuil', 'none sel', 'none poivre', '4 poivrons jaunes', '1 oignon', \"1 gousse d'ail\", '2 tomates', \"none huile d'olive\", \"none piment d'espelette\", '1 l de bouillon', '100 g de chorizo', 'none poivre', 'none sel', '250 g de saumon frais', '1 échalote', \"1 gousse d'ail\", '2 cuillères à soupe de sauce soja', '1/2 cuillère à soupe de miel', '1 poignée de salade', '250 g de carotte', '2 cuillères à café de sucre', '500 g de farfalle', \"1 cuillère à soupe d'huile\", '300 g de petit pois', '250 g de jambonneau', '250 g de mortadelle', \"1 botte d'oignon nouveau\", '6 tomates', '6 branches de céleri', '2 bulbes de fenouil', '2 bouquets garnis', '3 cuillères à soupe de câpres', '250 g de mayonnaise', '200 g de crème fraîche', '10 cl de crème', '200 g de parmesan râpé', '1 pincée de poivre de cayenne', 'none sel', '2 tranches de saumon fumé', '1 fromage de chèvre', '100 g de fromage blanc', '1 brin de ciboulette', \"1 l d'eau\", 'none pieds', '1 cube de bouillon', '60 g de tapioca', '1 oeuf', '20 cl de lait', 'none sel', 'none poivre', '20 cl de crème fraîche', '1 échalote', '1 citron', '2 tranches de saumon fumé', '1 boîte de crabe', '12 crevettes', '1 pamplemousse', 'none ciboulette', '1/2 avocat', 'none poivre', '1 potimarron', '1 pomme de terre', \"1 gousse d'ail\", '25 cl de crème fraîche épaisse', '1 cuillère à soupe de noisettes', '30 g de beurre', '2 brins de ciboulette', '1.4 kg de seiche', '4 tomates', '2 oignons', \"2 gousses d'ail\", '20 cl de vin blanc sec', 'none branche de persil', '1 branche de thym', '2 feuilles de laurier', '2 piments', \"1 zeste d'orange\", \"none huile d'olive\", '1 cuillère à soupe de concentré de tomates', '1 oeuf', '5 cl de cognac', '8 noix de saint-jacques', '1 bâton de vanille', \"1 filet d'huile d'olive\", \"1 branche d'aneth\", '1 pincée de fleur de sel', '1 filet de vinaigre de framboise', '100 g de farine', '100 g de polenta', '2 cuillères à café de levure chimique', '1 pincée de bicarbonate', '1 pincée de sel', '13 cl de lait fermenté', '40 g de beurre', '2 oeufs', '5 cl de bière', '1/2 poivron rouge', '1 avocat', '1/2 citron', \"3 cuillères à soupe d'huile d'olive\", \"none mélange d'épices mexicaines\", '1 pincée de cumin', '1 pincée de tabasco', '130 g de saumon fumé', '40 cl de crème liquide', \"1 pincée de piment d'espelette\", 'none sel', 'none aneth', '440 g de riz', \"250 g d'ananas\", '125 g de noix de cajou', 'none poivre', 'none sel', '250 g de farine', '125 g de beurre', \"5 cl d'eau\", '5 g de sel', \"1 jaune d'oeuf\", '300 g de roquefort', '100 g de cerneau de noix', '1/4 l de lait', '20 g de beurre', '20 g de farine', '1/4 l de crème fraîche', '6 oeufs', '1 cuillère de persil', 'none poivre', 'none sel', '1 cuillère de moutarde', '28 crevettes', '2 citrons', '3 oranges', '3 cuillères à soupe de mayonnaise', '20 cl de crème fraîche', '3 cuillères à café de ketchup', '200 g de beurre', '200 g de sucre', '4 oeufs', '1 yaourt', 'none zeste de citron', 'none citron', '1 sachet de levure chimique', '250 g de farine', '1 pâte sablée', '2 cuillères à soupe de sucre semoule', '1 oeuf', '1 cuillère à café de crème fraîche', \"4 cuillères à soupe de poudre d'amande\", 'none amandes', '500 g de kiwi', '300 g de fraises', '50 g de sucre en poudre', '800 g de yaourt nature', '1 gousse de vanille', '1 yaourt nature', '200 g de sucre en poudre', '300 g de farine', '4 oeufs', \"50 g d'huile\", '1 sachet de levure chimique', '2 oranges', '15 g de beurre', '60 g de pistaches', '2 oeufs', '60 g de sucre', '40 g de farine', '80 g de beurre', '33 cl de crème fleurette', '2 cuillères à soupe de mascarpone', '1/2 sachet de gélatine en poudre', '1 tablette de chocolat blanc', '120 g de framboises', '1 kg de pruneau', '25 cl de rhum', '1 l de vin rouge', '40 g de sucre en poudre', \"3 zestes d'orange\", '200 g de beurre', '300 g de sucre en poudre', '450 g de farine', '1 sachet de sucre vanillé', '4 oeufs', '2 cuillères à café de levure', '10 cl de cognac', '1 moules', '25 g de semoule fine', '25 cl de lait', '1 cuillère à soupe de crème', '1 cuillère à soupe de sucre', '25 g de chocolat', '2 rouleaux de pâte feuilletée', '3 coings', '60 g de beurre', '2 cuillères à soupe de miel', '50 g de sucre', 'none noix', 'none cannelle', 'none ras el hanout', '2 anis', '1 cuillère à café de vanille', '280 g de farine de blé', '100 g de sucre en poudre', '170 g de beurre', \"2 jaunes d'oeuf\", '120 g de céréale', '80 g de farine', '1/2 sachet de levure', '1 sachet de sucre vanillé', '125 g de compote', '25 cl de lait', '1 oeuf', '5 cuillères à soupe de sucre', '2 pommes', '2 bananes', '50 g de raisins secs', '12 pruneaux', 'none cannelle', '50 g de chocolat']\n"
     ]
    }
   ],
   "source": [
    "df = pd.read_json('./sample.json', encoding=\"utf8\")\n",
    "ingredients = df.ingredients.sum() #using sum concatenate the list of lists"
   ]
  },
  {
   "cell_type": "code",
   "execution_count": null,
   "metadata": {},
   "outputs": [],
   "source": []
  },
  {
   "cell_type": "code",
   "execution_count": null,
   "metadata": {},
   "outputs": [],
   "source": []
  },
  {
   "cell_type": "code",
   "execution_count": null,
   "metadata": {},
   "outputs": [],
   "source": []
  }
 ],
 "metadata": {
  "kernelspec": {
   "display_name": "Python 3",
   "language": "python",
   "name": "python3"
  },
  "language_info": {
   "codemirror_mode": {
    "name": "ipython",
    "version": 3
   },
   "file_extension": ".py",
   "mimetype": "text/x-python",
   "name": "python",
   "nbconvert_exporter": "python",
   "pygments_lexer": "ipython3",
   "version": "3.7.3"
  }
 },
 "nbformat": 4,
 "nbformat_minor": 4
}
